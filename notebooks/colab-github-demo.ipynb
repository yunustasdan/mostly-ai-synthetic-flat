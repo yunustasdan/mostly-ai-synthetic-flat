{
  "cells": [
    {
      "cell_type": "markdown",
      "metadata": {
        "id": "view-in-github",
        "colab_type": "text"
      },
      "source": [
        "<a href=\"https://colab.research.google.com/github/yunustasdan/mostly-ai-synthetic-flat/blob/main/notebooks/colab-github-demo.ipynb\" target=\"_parent\"><img src=\"https://colab.research.google.com/assets/colab-badge.svg\" alt=\"Open In Colab\"/></a>"
      ]
    },
    {
      "cell_type": "markdown",
      "metadata": {
        "id": "-pVhOfzLx9us"
      },
      "source": [
        "# Using Google Colab with GitHub\n",
        "\n"
      ]
    },
    {
      "cell_type": "code",
      "source": [
        "# Uyumlu sürümleri yükle\n",
        "!pip install sdv==1.4.0 pandas==2.3.0 numpy==1.24.4 --quiet\n",
        "\n",
        "# Runtime yeniden başlatılmalı, bu kodu çalıştırmadan önce menüden \"Runtime > Restart\" yap\n",
        "from google.colab import files\n",
        "import pandas as pd\n",
        "\n",
        "# CSV dosyasını yükle\n",
        "uploaded = files.upload()  # flat-training.csv dosyasını yükle\n",
        "df = pd.read_csv('flat-training.csv')\n",
        "print(df.shape)\n",
        "print(df.head())\n",
        "\n",
        "# CTGAN modeli eğit\n",
        "from sdv.tabular import CTGAN\n",
        "model = CTGAN(epochs=300)\n",
        "model.fit(df)\n",
        "\n",
        "# Sentetik veri üret\n",
        "synthetic_df = model.sample(100000)\n",
        "print(synthetic_df.head())\n",
        "\n",
        "# CSV olarak kaydet ve indir\n",
        "synthetic_df.to_csv('synthetic_flat_submission.csv', index=False)\n",
        "files.download('synthetic_flat_submission.csv')\n"
      ],
      "metadata": {
        "id": "yyh9ougJFc7c"
      },
      "execution_count": null,
      "outputs": []
    }
  ],
  "metadata": {
    "colab": {
      "name": "colab-github-demo.ipynb",
      "provenance": [],
      "include_colab_link": true
    },
    "kernelspec": {
      "display_name": "Python 3",
      "name": "python3"
    }
  },
  "nbformat": 4,
  "nbformat_minor": 0
}